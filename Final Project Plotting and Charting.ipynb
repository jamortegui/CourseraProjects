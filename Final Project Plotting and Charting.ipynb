{
 "cells": [
  {
   "cell_type": "markdown",
   "metadata": {},
   "source": [
    "# Assignment 4\n",
    "\n",
    "[Certificate](https://www.coursera.org/account/accomplishments/verify/4UEYQC579VAV)\n",
    "\n",
    "Before working on this assignment please read these instructions fully. In the submission area, you will notice that you can click the link to **Preview the Grading** for each step of the assignment. This is the criteria that will be used for peer grading. Please familiarize yourself with the criteria before beginning the assignment.\n",
    "\n",
    "This assignment requires that you to find **at least** two datasets on the web which are related, and that you visualize these datasets to answer a question with the broad topic of **weather phenomena** (see below) for the region of **Bogotá, Bogota D.C., Colombia**, or **Colombia** more broadly.\n",
    "\n",
    "You can merge these datasets with data from different regions if you like! For instance, you might want to compare **Bogotá, Bogota D.C., Colombia** to Ann Arbor, USA. In that case at least one source file must be about **Bogotá, Bogota D.C., Colombia**.\n",
    "\n",
    "You are welcome to choose datasets at your discretion, but keep in mind **they will be shared with your peers**, so choose appropriate datasets. Sensitive, confidential, illicit, and proprietary materials are not good choices for datasets for this assignment. You are welcome to upload datasets of your own as well, and link to them using a third party repository such as github, bitbucket, pastebin, etc. Please be aware of the Coursera terms of service with respect to intellectual property.\n",
    "\n",
    "Also, you are welcome to preserve data in its original language, but for the purposes of grading you should provide english translations. You are welcome to provide multiple visuals in different languages if you would like!\n",
    "\n",
    "As this assignment is for the whole course, you must incorporate principles discussed in the first week, such as having as high data-ink ratio (Tufte) and aligning with Cairo’s principles of truth, beauty, function, and insight.\n",
    "\n",
    "Here are the assignment instructions:\n",
    "\n",
    " * State the region and the domain category that your data sets are about (e.g., **Bogotá, Bogota D.C., Colombia** and **weather phenomena**).\n",
    " * You must state a question about the domain category and region that you identified as being interesting.\n",
    " * You must provide at least two links to available datasets. These could be links to files such as CSV or Excel files, or links to websites which might have data in tabular form, such as Wikipedia pages.\n",
    " * You must upload an image which addresses the research question you stated. In addition to addressing the question, this visual should follow Cairo's principles of truthfulness, functionality, beauty, and insightfulness.\n",
    " * You must contribute a short (1-2 paragraph) written justification of how your visualization addresses your stated research question.\n",
    "\n",
    "What do we mean by **weather phenomena**?  For this category you might want to consider seasonal changes, natural disasters, or historical trends.\n",
    "\n",
    "## Tips\n",
    "* Wikipedia is an excellent source of data, and I strongly encourage you to explore it for new data sources.\n",
    "* Many governments run open data initiatives at the city, region, and country levels, and these are wonderful resources for localized data sources.\n",
    "* Several international agencies, such as the [United Nations](http://data.un.org/), the [World Bank](http://data.worldbank.org/), the [Global Open Data Index](http://index.okfn.org/place/) are other great places to look for data.\n",
    "* This assignment requires you to convert and clean datafiles. Check out the discussion forums for tips on how to do this from various sources, and share your successes with your fellow students!\n",
    "\n",
    "## Example\n",
    "Looking for an example? Here's what our course assistant put together for the **Ann Arbor, MI, USA** area using **sports and athletics** as the topic. [Example Solution File](./readonly/Assignment4_example.pdf)"
   ]
  },
  {
   "cell_type": "code",
   "execution_count": 49,
   "metadata": {},
   "outputs": [],
   "source": [
    "'''Source: https://earthquake.usgs.gov/earthquakes/map/?extent=18.7295,-140.97656&extent=53.85253,-49.04297'''\n",
    "\n",
    "import numpy as np\n",
    "import pandas as pd\n",
    "import matplotlib.pyplot as plt\n",
    "\n",
    "colombia = pd.read_csv(\"TerremotosColombia(2009-2019)(+4.5).csv\")[[\"time\",\"mag\"]]\n",
    "usa = pd.read_csv(\"TerremotosUSA(2009-2019)(+4.5).csv\")[[\"time\",\"mag\"]]\n",
    "\n",
    "def get_year(row):\n",
    "    return row[\"time\"].split(\"-\")[0]\n",
    "\n",
    "colombia[\"year\"]=colombia.apply(get_year,axis=1)\n",
    "usa[\"year\"]=usa.apply(get_year,axis=1)\n",
    "\n",
    "colombia=colombia[[\"year\",\"mag\"]].groupby(\"year\").aggregate([len,np.mean])\n",
    "usa=usa[[\"year\",\"mag\"]].groupby(\"year\").aggregate([len,np.mean])\n",
    "plt.figure()\n",
    "plt.subplots(2,1,sharex=True)\n",
    "plt.subplot(2,1,1)\n",
    "plt.plot(list(colombia.index.values),list(colombia[\"mag\"][\"len\"]),\"-ok\",alpha=0.5)\n",
    "plt.plot(list(usa.index.values),list(usa[\"mag\"][\"len\"]),\"-sk\")\n",
    "plt.xticks([])\n",
    "plt.ylim(0,100)\n",
    "plt.ylabel(\"Number of\\nearthquakes\")\n",
    "plt.legend([\"Colombia\",\"United States\"])\n",
    "plt.title(\"Number of earthquiakes and\\nmean magnitudes for the period 2009-2019\")\n",
    "plt.gca().yaxis.tick_right()\n",
    "plt.subplot(2,1,2)\n",
    "plt.plot(list(colombia.index.values),list(colombia[\"mag\"][\"mean\"]),\"-ok\",alpha=0.5)\n",
    "plt.plot(list(usa.index.values),list(usa[\"mag\"][\"mean\"]),\"-sk\")\n",
    "plt.xticks([int(x) for x in list(usa.index.values)])\n",
    "plt.ylim(4.2,5.6)\n",
    "plt.ylabel(\"Mean\\nmagnitude\")\n",
    "plt.yticks(np.arange(4.2,5.6,0.4))\n",
    "plt.gca().yaxis.tick_right()\n",
    "plt.savefig(\"finalProyect(1).jpg\",dpi=1000)\n"
   ]
  },
  {
   "cell_type": "code",
   "execution_count": null,
   "metadata": {
    "collapsed": true
   },
   "outputs": [],
   "source": []
  }
 ],
 "metadata": {
  "kernelspec": {
   "display_name": "Python 3",
   "language": "python",
   "name": "python3"
  },
  "language_info": {
   "codemirror_mode": {
    "name": "ipython",
    "version": 3
   },
   "file_extension": ".py",
   "mimetype": "text/x-python",
   "name": "python",
   "nbconvert_exporter": "python",
   "pygments_lexer": "ipython3",
   "version": "3.7.3"
  }
 },
 "nbformat": 4,
 "nbformat_minor": 1
}
