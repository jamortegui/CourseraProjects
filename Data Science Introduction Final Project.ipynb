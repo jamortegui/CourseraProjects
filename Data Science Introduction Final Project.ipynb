{
 "cells": [
  {
   "cell_type": "markdown",
   "metadata": {},
   "source": [
    "---\n",
    "\n",
    "_You are currently looking at **version 1.1** of this notebook. To download notebooks and datafiles, as well as get help on Jupyter notebooks in the Coursera platform, visit the [Jupyter Notebook FAQ](https://www.coursera.org/learn/python-data-analysis/resources/0dhYG) course resource._\n",
    "\n",
    "---"
   ]
  },
  {
   "cell_type": "code",
   "execution_count": 1,
   "metadata": {
    "collapsed": true
   },
   "outputs": [],
   "source": [
    "import pandas as pd\n",
    "import numpy as np\n",
    "from scipy.stats import ttest_ind"
   ]
  },
  {
   "cell_type": "markdown",
   "metadata": {},
   "source": [
    "# Assignment 4 - Hypothesis Testing\n",
    "\n",
    "[Certificate](https://www.coursera.org/account/accomplishments/verify/C9QNCY7JN5HQ)\n",
    "\n",
    "This assignment requires more individual learning than previous assignments - you are encouraged to check out the [pandas documentation](http://pandas.pydata.org/pandas-docs/stable/) to find functions or methods you might not have used yet, or ask questions on [Stack Overflow](http://stackoverflow.com/) and tag them as pandas and python related. And of course, the discussion forums are open for interaction with your peers and the course staff.\n",
    "\n",
    "Definitions:\n",
    "* A _quarter_ is a specific three month period, Q1 is January through March, Q2 is April through June, Q3 is July through September, Q4 is October through December.\n",
    "* A _recession_ is defined as starting with two consecutive quarters of GDP decline, and ending with two consecutive quarters of GDP growth.\n",
    "* A _recession bottom_ is the quarter within a recession which had the lowest GDP.\n",
    "* A _university town_ is a city which has a high percentage of university students compared to the total population of the city.\n",
    "\n",
    "**Hypothesis**: University towns have their mean housing prices less effected by recessions. Run a t-test to compare the ratio of the mean price of houses in university towns the quarter before the recession starts compared to the recession bottom. (`price_ratio=quarter_before_recession/recession_bottom`)\n",
    "\n",
    "The following data files are available for this assignment:\n",
    "* From the [Zillow research data site](http://www.zillow.com/research/data/) there is housing data for the United States. In particular the datafile for [all homes at a city level](http://files.zillowstatic.com/research/public/City/City_Zhvi_AllHomes.csv), ```City_Zhvi_AllHomes.csv```, has median home sale prices at a fine grained level.\n",
    "* From the Wikipedia page on college towns is a list of [university towns in the United States](https://en.wikipedia.org/wiki/List_of_college_towns#College_towns_in_the_United_States) which has been copy and pasted into the file ```university_towns.txt```.\n",
    "* From Bureau of Economic Analysis, US Department of Commerce, the [GDP over time](http://www.bea.gov/national/index.htm#gdp) of the United States in current dollars (use the chained value in 2009 dollars), in quarterly intervals, in the file ```gdplev.xls```. For this assignment, only look at GDP data from the first quarter of 2000 onward.\n",
    "\n",
    "Each function in this assignment below is worth 10%, with the exception of ```run_ttest()```, which is worth 50%."
   ]
  },
  {
   "cell_type": "code",
   "execution_count": 2,
   "metadata": {
    "collapsed": true
   },
   "outputs": [],
   "source": [
    "# Use this dictionary to map state names to two letter acronyms\n",
    "states = {'OH': 'Ohio', 'KY': 'Kentucky', 'AS': 'American Samoa', 'NV': 'Nevada', 'WY': 'Wyoming', 'NA': 'National', 'AL': 'Alabama', 'MD': 'Maryland', 'AK': 'Alaska', 'UT': 'Utah', 'OR': 'Oregon', 'MT': 'Montana', 'IL': 'Illinois', 'TN': 'Tennessee', 'DC': 'District of Columbia', 'VT': 'Vermont', 'ID': 'Idaho', 'AR': 'Arkansas', 'ME': 'Maine', 'WA': 'Washington', 'HI': 'Hawaii', 'WI': 'Wisconsin', 'MI': 'Michigan', 'IN': 'Indiana', 'NJ': 'New Jersey', 'AZ': 'Arizona', 'GU': 'Guam', 'MS': 'Mississippi', 'PR': 'Puerto Rico', 'NC': 'North Carolina', 'TX': 'Texas', 'SD': 'South Dakota', 'MP': 'Northern Mariana Islands', 'IA': 'Iowa', 'MO': 'Missouri', 'CT': 'Connecticut', 'WV': 'West Virginia', 'SC': 'South Carolina', 'LA': 'Louisiana', 'KS': 'Kansas', 'NY': 'New York', 'NE': 'Nebraska', 'OK': 'Oklahoma', 'FL': 'Florida', 'CA': 'California', 'CO': 'Colorado', 'PA': 'Pennsylvania', 'DE': 'Delaware', 'NM': 'New Mexico', 'RI': 'Rhode Island', 'MN': 'Minnesota', 'VI': 'Virgin Islands', 'NH': 'New Hampshire', 'MA': 'Massachusetts', 'GA': 'Georgia', 'ND': 'North Dakota', 'VA': 'Virginia'}"
   ]
  },
  {
   "cell_type": "code",
   "execution_count": 3,
   "metadata": {
    "collapsed": true,
    "umich_part_id": "021",
    "umich_partlist_id": "004"
   },
   "outputs": [],
   "source": [
    "def get_list_of_university_towns():\n",
    "    '''Returns a DataFrame of towns and the states they are in from the \n",
    "    university_towns.txt list. The format of the DataFrame should be:\n",
    "    DataFrame( [ [\"Michigan\", \"Ann Arbor\"], [\"Michigan\", \"Yipsilanti\"] ], \n",
    "    columns=[\"State\", \"RegionName\"]  )\n",
    "    \n",
    "    The following cleaning needs to be done:\n",
    "\n",
    "    1. For \"State\", removing characters from \"[\" to the end.\n",
    "    2. For \"RegionName\", when applicable, removing every character from \" (\" to the end.\n",
    "    3. Depending on how you read the data, you may need to remove newline character '\\n'. '''\n",
    "    \n",
    "    archivo = open(\"university_towns.txt\",\"r\") #Abre el archivo\n",
    "    state=\"\" #Inicializa la variable state donde se va a validar el estado que se esta revisando\n",
    "    answer=[] #Inicializa la variable answer como una lista vacia\n",
    "    #print(archivo.readlines())\n",
    "    for linea in archivo.readlines():     #Ciclo para leer todas las lineas del archivo\n",
    "        linea = linea.replace(\"\\n\",\"\")  #Elimina el caracter \"\\n\" de todas las lineas\n",
    "        if linea.find(\"[edit]\") != -1:  #Verifica si el nombre en la linea es un estado\n",
    "            state = linea.replace(\"[edit]\",\"\") #Elimina el substring \"[edit]\" del nombre y guarda el estado actual\n",
    "        else:\n",
    "            linea = linea.split(\" (\")[0]    #Elimina el resto del nombre de la region, todo lo que esta despues de \" (\"\n",
    "            answer.append([state,linea])    #Agrega el estado y la region a la lista\n",
    "    answer = pd.DataFrame(answer,columns=[\"State\",\"RegionName\"])  #Convierte la lista en un data frame\n",
    "    #print(answer)\n",
    "    archivo.close() #Cierra el archivo abierto\n",
    "    return answer\n",
    "#print(get_list_of_university_towns())"
   ]
  },
  {
   "cell_type": "code",
   "execution_count": 4,
   "metadata": {
    "collapsed": true,
    "umich_part_id": "022",
    "umich_partlist_id": "004"
   },
   "outputs": [],
   "source": [
    "def get_gdplev():\n",
    "    '''Return a data frame with the quarter information of the file gdplev.xls'''\n",
    "    archivo = pd.read_excel(\"gdplev.xls\",header=None,names=[\"Quarter\",\"GDP(Current)\",\"GDP(2009)\"],usecols=[4,5,6],skiprows=220)\n",
    "    #Abre el archivo de excel y crea un data frame con las columnas solicitadas\n",
    "    #print(archivo)\n",
    "    return archivo\n",
    "#print(get_gdplev())\n",
    "\n",
    "def get_recession_start(flag=0):\n",
    "    '''Returns the year and quarter of the recession start time as a \n",
    "    string value in a format such as 2005q3'''\n",
    "    '''Flag es un parametro opcional que determina que retorna la funcion al final de su ejecución'''\n",
    "    df = get_gdplev() #Abre el dataframe del archivo gdplev.xls con los filtros respectivos ya aplicados\n",
    "    decreciente = 0 #Inicializador del contador que indica cuantos valores decrecientes van continuos\n",
    "    for index, row in df.iterrows(): #Ciclo for que itera sobre todas las filas del data frame\n",
    "        if index != 0:  #Valida que no sea la primera fila del data frame\n",
    "            if df[\"GDP(Current)\"].iloc[index] < df[\"GDP(Current)\"].iloc[index-1]: #Valida si el GDP de este periodo es menor al GDP del periodo anterior\n",
    "                decreciente = decreciente + 1 #Suma una unidad a los periodos decrecientes continuos\n",
    "            else:\n",
    "                decreciente = 0 #Devuelve a cero el contador\n",
    "            if decreciente >= 2: #Valida si ya hay dos periodos decrecientes continuos\n",
    "                #print(\"Periodo encontrado\")\n",
    "                break #Sale del ciclo for\n",
    "    if flag == 0:\n",
    "        return df[\"Quarter\"].iloc[index-2] #Regresa el periodo en el que comenzo la recesion \n",
    "    elif flag == 1:\n",
    "        return df.iloc[index-2:] #Retorna el dataframe unicamente desde el inicio de la recesion\n",
    "    else:\n",
    "        return index-2 #Retorna el indice del dataframe donde comenzo la recesion \n",
    "#print(get_recession_start())"
   ]
  },
  {
   "cell_type": "code",
   "execution_count": 5,
   "metadata": {
    "collapsed": true,
    "umich_part_id": "023",
    "umich_partlist_id": "004"
   },
   "outputs": [],
   "source": [
    "def get_recession_end(flag=0):\n",
    "    '''Returns the year and quarter of the recession end time as a \n",
    "    string value in a format such as 2005q3'''\n",
    "    '''Flag es un parametro opcional que determina que retorna la funcion al final de su ejecución'''\n",
    "    df = get_recession_start(flag=1).reset_index(drop=True) #Abre el dataframe del archivo gdplev.xls mostrado unicamente a partir del inicio de la recesion\n",
    "    #Resetea el index del dataframe desde cero y no guarda el index anterior como una columna\n",
    "    #print(df)\n",
    "    creciente = 0 #Inicializador del contador que indica cuantos valores crecientes van continuos\n",
    "    for index, row in df.iterrows(): #Ciclo for que itera sobre todas las filas del data frame\n",
    "        if index != 0: #Valida que no sea la primera fila del data frame\n",
    "            if df[\"GDP(Current)\"].iloc[index] > df[\"GDP(Current)\"].iloc[index-1]: #Valida que el GDP del periodo actual sea mayor al GDP del periodo anterior\n",
    "                creciente = creciente + 1 #Aumenta el valor de creciente\n",
    "            else:\n",
    "                creciente = 0 #Reinicia la variable creciente\n",
    "            if creciente >= 2: #Valida que ya se hallan encontrado 2 periodos creicentes seguidos\n",
    "                break #Sale del ciclo for\n",
    "    if flag == 0:\n",
    "        return df[\"Quarter\"].iloc[index] #Retorna el periodo en el que se acabo la recesion \n",
    "    else:\n",
    "        return index #Retorna el indice del dataframe (El dataframe recortado, el cual comienza en el inicio de la recesion) donde acaba la recesion\n",
    "#print(get_recession_end(flag=0))"
   ]
  },
  {
   "cell_type": "code",
   "execution_count": 6,
   "metadata": {
    "collapsed": true,
    "umich_part_id": "024",
    "umich_partlist_id": "004"
   },
   "outputs": [],
   "source": [
    "def get_recession_bottom():\n",
    "    '''Returns the year and quarter of the recession bottom time as a \n",
    "    string value in a format such as 2005q3'''\n",
    "    inicio = get_recession_start(flag=2) #Indice donde comienza la recesion \n",
    "    #print(inicio)\n",
    "    final = inicio + get_recession_end(flag=1) +1#Indice donde termina la recesion\n",
    "    #print(final)\n",
    "    df = get_gdplev().iloc[inicio:final] #Abre el dataframe con los datos unicamente de la recesion\n",
    "    #print (df)\n",
    "    return df[\"Quarter\"].loc[np.argmin(df[\"GDP(Current)\"])] #Retorna el periodo en el cual el GDP fue minimo\n",
    "#print(get_recession_bottom())"
   ]
  },
  {
   "cell_type": "code",
   "execution_count": 7,
   "metadata": {
    "umich_part_id": "025",
    "umich_partlist_id": "004"
   },
   "outputs": [
    {
     "data": {
      "text/plain": [
       "'No olvidar comentar esta linea'"
      ]
     },
     "execution_count": 7,
     "metadata": {},
     "output_type": "execute_result"
    }
   ],
   "source": [
    "def convert_housing_data_to_quarters():\n",
    "    '''Converts the housing data to quarters and returns it as mean \n",
    "    values in a dataframe. This dataframe should be a dataframe with\n",
    "    columns for 2000q1 through 2016q3, and should have a multi-index\n",
    "    in the shape of [\"State\",\"RegionName\"].\n",
    "    \n",
    "    Note: Quarters are defined in the assignment description, they are\n",
    "    not arbitrary three month periods.\n",
    "    \n",
    "    The resulting dataframe should have 67 columns, and 10,730 rows.\n",
    "    '''\n",
    "    df=pd.read_csv(\"City_Zhvi_AllHomes.csv\") #Crea un dataframe a partir de un archivo CSV\n",
    "    #print(df.head())\n",
    "    aux=df.drop(labels=[\"RegionID\",\"RegionName\",\"State\",\"Metro\",\"CountyName\",\"SizeRank\"],axis=1) #Crea un nuevo dataframe llamado aux que es una copia del dataframe df pero eliminando las columnas mencionadas\n",
    "    columnas=list(aux.columns) #Crea una lista con los nombres de las columnas del dataframe aux\n",
    "    for columna in columnas: #Ciclo for para eliminar todos los datos de años inferiores al 2000\n",
    "        if int(columna[:4]) < 2000: #Verifica que el año de ese dato sea menor al 2000\n",
    "            aux = aux.drop(labels=columna,axis=1) #Elimina la columna del data frame aux\n",
    "            df = df.drop(labels=columna,axis=1) #Elimina la columna del data frame df\n",
    "        else:\n",
    "            break #Termina el ciclo si ya se periodos los años inferiores a 2000\n",
    "    columnas=list(aux.columns) #actualiza la lista con los nombres de las columnas del dataframe aux\n",
    "    current_year=\"2000\" #Inicializa la variable \n",
    "    current_quarter=1 #inicializa la variable\n",
    "    mes = 0 #inicializa la variable\n",
    "    periodos = [] #Inicializa la lista que guardara los periodos que se incluiran en ese cuarto\n",
    "    cuartos = []\n",
    "    for columna in columnas: #Ciclo for que crea los cuartos\n",
    "        #print(\"run\")\n",
    "        mes = int(columna.split(\"-\")[1]) #Variable que indica el mes del periodo actual\n",
    "        if mes <= 3: #Asigna a quarter el valor que le corresponda segun el mes\n",
    "            quarter = 1\n",
    "        elif mes <= 6:\n",
    "            quarter = 2\n",
    "        elif mes <= 9:\n",
    "            quarter = 3\n",
    "        else:\n",
    "            quarter = 4\n",
    "        if quarter == current_quarter: #Verifica que aun no se cambiara de periodo\n",
    "            periodos.append(columna) #Si es el mismo cuarto, agrega el periodo a columnas\n",
    "        else:\n",
    "            df[current_year+\"q\"+str(current_quarter)]=df[periodos].apply(np.mean,axis=1) \n",
    "            #Crea una nueva columna en el dataframe df con el nombre del cuarto y la media de este\n",
    "            cuartos.append(current_year+\"q\"+str(current_quarter)) #Agrega el nuevo cuarto guardado a la lista cuartos\n",
    "            current_year=columna.split(\"-\")[0] #Le asigna un nuevo valor al año\n",
    "            current_quarter = quarter #Le asigna un nuevo valor a current quarter\n",
    "            periodos = [] #Vacia nuevamente la lista periodos\n",
    "            periodos.append(columna) #Agrega el periodo actual a periodos\n",
    "    df[current_year+\"q\"+str(current_quarter)]=df[periodos].apply(np.mean,axis=1) \n",
    "    #Crea una nueva columna en el dataframe df con el nombre del ultimo cuarto y la media de este\n",
    "    cuartos.append(current_year+\"q\"+str(current_quarter)) #Agrega el nuevo cuarto guardado a la lista cuartos\n",
    "    df = df[[\"State\",\"RegionName\"]+cuartos].set_index([\"State\",\"RegionName\"]) #Separa las columnas requeridas del data frame y asigna los indices pedidos\n",
    "    #print(columnas)\n",
    "    #print(df.head())\n",
    "    return df\n",
    "#print(convert_housing_data_to_quarters())\n",
    "#housingPrices_aux=convert_housing_data_to_quarters() \n",
    "'''No olvidar comentar esta linea'''\n",
    "pass\n"
   ]
  },
  {
   "cell_type": "code",
   "execution_count": 27,
   "metadata": {
    "umich_part_id": "026",
    "umich_partlist_id": "004"
   },
   "outputs": [
    {
     "name": "stdout",
     "output_type": "stream",
     "text": [
      "(True, 0.0027240637047531249, 'university town')\n"
     ]
    }
   ],
   "source": [
    "def run_ttest():\n",
    "    '''First creates new data showing the decline or growth of housing prices\n",
    "    between the recession start and the recession bottom. Then runs a ttest\n",
    "    comparing the university town values to the non-university towns values, \n",
    "    return whether the alternative hypothesis (that the two groups are the same)\n",
    "    is true or not as well as the p-value of the confidence. \n",
    "    \n",
    "    Return the tuple (different, p, better) where different=True if the t-test is\n",
    "    True at a p<0.01 (we reject the null hypothesis), or different=False if \n",
    "    otherwise (we cannot reject the null hypothesis). The variable p should\n",
    "    be equal to the exact p value returned from scipy.stats.ttest_ind(). The\n",
    "    value for better should be either \"university town\" or \"non-university town\"\n",
    "    depending on which has a lower mean price ratio (which is equivilent to a\n",
    "    reduced market loss).'''\n",
    "    anno_inicial=int(get_recession_start().split(\"q\")[0]) #Toma el año en el cual comienza la recesion\n",
    "    periodo_inicial=int(get_recession_start().split(\"q\")[1]) #Toma el numero de periodo en el que comienza la recesion\n",
    "    if periodo_inicial == 1: #Verifica si el periodo inicial es 1\n",
    "        anno_inicial -= 1 #Le resta uno al año\n",
    "        periodo_inicial = 4 #Asigna el periodo actual como 4\n",
    "    else:\n",
    "        periodo_inicial -= 1 #Le resta uno al periodo\n",
    "    periodo_inicial=\"q\".join([str(anno_inicial),str(periodo_inicial)]) #Asigna el nombre del cuarto anterior al que inicia la recesion a periodo_inicial\n",
    "    periodo_final=get_recession_bottom() #Guarda el periodo mas bajo de la recesion\n",
    "    housingPrices=convert_housing_data_to_quarters()[[periodo_inicial,periodo_final]] #Obtiene los dos periodos requeridos de housing prices\n",
    "    #housingPrices=housingPrices_aux[[periodo_inicial,periodo_final]] \n",
    "    '''Linea auxiliar para no tener que correr la funcion cada vez que se realiza una'''\n",
    "    housingPrices[\"Ratio\"]=housingPrices[periodo_inicial]/housingPrices[periodo_final] # Calcula el ratio\n",
    "    housingPrices = housingPrices[\"Ratio\"].reset_index().replace({\"State\":states}) #.set_index([\"State\",\"RegionName\"])\n",
    "    #Deja unicamente la columna de ratio y reemplaza las abreviaturas de los estados por sus nombre completos y reinicia el index del data set\n",
    "    housingPricesUniversityTowns= get_list_of_university_towns().merge(housingPrices,how=\"left\",left_on=[\"State\",\"RegionName\"],right_on=[\"State\",\"RegionName\"])\n",
    "    #Crea el dataset haciendo housingPricesUniversityTowns un left outter join para tener un dataset que tenga solo los ratios de los university towns\n",
    "    #print(housingPrices.head())\n",
    "    #print(housingPricesUniversityTowns.head())\n",
    "    house_index=housingPrices.set_index([\"State\",\"RegionName\"]).index #Obtiene los estados y las regiones de todo el archivo de housing prices\n",
    "    universityTown_index=get_list_of_university_towns().set_index([\"State\",\"RegionName\"]).index #Obtiene los estados y las regiones de todos los university towns\n",
    "    mask = ~house_index.isin(universityTown_index) #Genera una mascara booleana que indica False si el estado y region de housingPrices es un university town y true de lo contrario (Notese que el caracter ~ sirve para negar)\n",
    "    housingPricesNonUniversityTowns = housingPrices.loc[mask] #Muestra solo las filas que tengan valor true (Las que no son university towns)\n",
    "    #print(housingPricesNonUniversityTowns.head())\n",
    "    aux, p = ttest_ind(housingPricesUniversityTowns[\"Ratio\"],housingPricesNonUniversityTowns[\"Ratio\"],nan_policy=\"omit\")\n",
    "    different=False\n",
    "    if p < 0.01:\n",
    "        different=True\n",
    "    better = \"non-university town\"\n",
    "    if np.mean(housingPricesUniversityTowns[\"Ratio\"]) < np.mean(housingPricesNonUniversityTowns[\"Ratio\"]):\n",
    "        better = \"university town\"\n",
    "    return different,p,better\n",
    "print(run_ttest())\n",
    "'''\n",
    "Codigo de ejemplo para eliminar los valores repetidos de un dataframe (Valores de un dataframe que ya estan en otro)\n",
    "a_aux = pd.DataFrame({0:[1,2,3],1:[10,20,30]})\n",
    "b_aux = pd.DataFrame({0:[0,1,2,3],1:[0,1,20,3]})\n",
    "print(a_aux)\n",
    "print(b_aux)\n",
    "a_index = a_aux.set_index([0,1]).index\n",
    "b_index = b_aux.set_index([0,1]).index\n",
    "print(a_index)\n",
    "print(b_index)\n",
    "mask = ~a_index.isin(b_index)\n",
    "print(mask)\n",
    "result = a_aux.loc[mask]\n",
    "print(result)\n",
    "'''\n",
    "pass"
   ]
  },
  {
   "cell_type": "code",
   "execution_count": null,
   "metadata": {
    "collapsed": true
   },
   "outputs": [],
   "source": []
  }
 ],
 "metadata": {
  "coursera": {
   "course_slug": "python-data-analysis",
   "graded_item_id": "Il9Fx",
   "launcher_item_id": "TeDW0",
   "part_id": "WGlun"
  },
  "kernelspec": {
   "display_name": "Python 3",
   "language": "python",
   "name": "python3"
  },
  "language_info": {
   "codemirror_mode": {
    "name": "ipython",
    "version": 3
   },
   "file_extension": ".py",
   "mimetype": "text/x-python",
   "name": "python",
   "nbconvert_exporter": "python",
   "pygments_lexer": "ipython3",
   "version": "3.7.3"
  },
  "umich": {
   "id": "Assignment 4",
   "version": "1.1"
  }
 },
 "nbformat": 4,
 "nbformat_minor": 1
}
